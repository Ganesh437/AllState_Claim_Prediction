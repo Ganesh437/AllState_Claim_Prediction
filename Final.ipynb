{
  "nbformat": 4,
  "nbformat_minor": 0,
  "metadata": {
    "colab": {
      "name": "Final.ipynb",
      "provenance": [],
      "collapsed_sections": []
    },
    "kernelspec": {
      "name": "python3",
      "display_name": "Python 3"
    }
  },
  "cells": [
    {
      "cell_type": "code",
      "metadata": {
        "id": "QXPCtV33G6SX"
      },
      "source": [
        "import pandas as pd \n",
        "import numpy as np\n",
        "import pickle\n",
        "import xgboost as xgb\n",
        "from sklearn.metrics import mean_absolute_error"
      ],
      "execution_count": null,
      "outputs": []
    },
    {
      "cell_type": "markdown",
      "metadata": {
        "id": "PP50WNRSQMxX"
      },
      "source": [
        "## Predict for the given datapoint"
      ]
    },
    {
      "cell_type": "code",
      "metadata": {
        "id": "9P5FChB82G0T"
      },
      "source": [
        "def function1(input):\n",
        "    \n",
        "    shift = 200 \n",
        "\n",
        "    # adding extra features for data point \n",
        "    input['is_cat3_sameas_cat90']=np.where(input['cat3']==input['cat90'],1,0)\n",
        "\n",
        "    input['is_cat7_sameas_cat89']=np.where(input['cat7']==input['cat89'],1,0)\n",
        "\n",
        "    input['is_cat2_sameas_cat9']=np.where(input['cat2']==input['cat9'],1,0)\n",
        "\n",
        "    input['is_cat6_sameas_cat50']=np.where(input['cat6']==input['cat50'],1,0)\n",
        "\n",
        "    COMB_FEATURE = 'cat80,cat87,cat57,cat12,cat79,cat10,cat7,cat89,cat2,cat72,' \\\n",
        "            'cat81,cat11,cat1,cat13,cat9,cat3,cat16,cat90,cat23,cat36,' \\\n",
        "            'cat73,cat103,cat40,cat28,cat111,cat6,cat76,cat50,cat5,' \\\n",
        "            'cat4,cat14,cat38,cat24,cat82,cat25'.split(',')\n",
        "\n",
        "    cat_features = [i for i in input.columns if i[:3]=='cat']\n",
        "\n",
        "    def encode(charcode):\n",
        "        '''This function simply computes the ordinal value with some modifications'''\n",
        "        r = 0\n",
        "        ln = len(str(charcode))\n",
        "        for i in range(ln):\n",
        "            r += (ord(str(charcode)[i]) - ord('A') + 1) * 26 ** (ln - i - 1)\n",
        "        return r\n",
        "\n",
        "    for i in range(len(COMB_FEATURE)):\n",
        "        for j in range(i+1,len(COMB_FEATURE)):\n",
        "            feature = COMB_FEATURE[i]+'_'+COMB_FEATURE[j]\n",
        "            input[feature]=input[COMB_FEATURE[i]]+input[COMB_FEATURE[j]]\n",
        "            input[feature]=input[feature].apply(encode)\n",
        "\n",
        "    for i in cat_features:\n",
        "        input[i]=input[i].apply(encode)\n",
        "\n",
        "    dpoint = xgb.DMatrix(input)\n",
        "\n",
        "    loaded_model = pickle.load(open('/content/drive/My Drive/finalized_model_lexical_coding.pkl', 'rb'))\n",
        "\n",
        "    result = loaded_model.predict(dpoint)\n",
        "    result = np.exp(result)-shift\n",
        "    \n",
        "    return result[0]"
      ],
      "execution_count": null,
      "outputs": []
    },
    {
      "cell_type": "code",
      "metadata": {
        "id": "0Rc43peKJFgq",
        "outputId": "28deb7b7-5f34-42be-a67d-da28cad9b001",
        "colab": {
          "base_uri": "https://localhost:8080/",
          "height": 34
        }
      },
      "source": [
        "test_point  = pd.read_csv('/content/drive/My Drive/allstate-claims-severity/test.csv',nrows=1)\n",
        "\n",
        "test_point = test_point.drop(['id'],axis=1)\n",
        "\n",
        "print(function1(test_point))"
      ],
      "execution_count": null,
      "outputs": [
        {
          "output_type": "stream",
          "text": [
            "2300.935\n"
          ],
          "name": "stdout"
        }
      ]
    },
    {
      "cell_type": "markdown",
      "metadata": {
        "id": "mTxKLc23QUhB"
      },
      "source": [
        "## Predict the loss for given datapoints"
      ]
    },
    {
      "cell_type": "code",
      "metadata": {
        "id": "dL9v6MGDQdI7"
      },
      "source": [
        "def function2(input,actual_value):\n",
        "    \n",
        "    shift = 200 \n",
        "\n",
        "    # adding extra features for data point \n",
        "    input['is_cat3_sameas_cat90']=np.where(input['cat3']==input['cat90'],1,0)\n",
        "\n",
        "    input['is_cat7_sameas_cat89']=np.where(input['cat7']==input['cat89'],1,0)\n",
        "\n",
        "    input['is_cat2_sameas_cat9']=np.where(input['cat2']==input['cat9'],1,0)\n",
        "\n",
        "    input['is_cat6_sameas_cat50']=np.where(input['cat6']==input['cat50'],1,0)\n",
        "\n",
        "    COMB_FEATURE = 'cat80,cat87,cat57,cat12,cat79,cat10,cat7,cat89,cat2,cat72,' \\\n",
        "            'cat81,cat11,cat1,cat13,cat9,cat3,cat16,cat90,cat23,cat36,' \\\n",
        "            'cat73,cat103,cat40,cat28,cat111,cat6,cat76,cat50,cat5,' \\\n",
        "            'cat4,cat14,cat38,cat24,cat82,cat25'.split(',')\n",
        "\n",
        "    cat_features = [i for i in input.columns if i[:3]=='cat']\n",
        "\n",
        "    def encode(charcode):\n",
        "        '''This function simply computes the ordinal value with some modifications'''\n",
        "        r = 0\n",
        "        ln = len(str(charcode))\n",
        "        for i in range(ln):\n",
        "            r += (ord(str(charcode)[i]) - ord('A') + 1) * 26 ** (ln - i - 1)\n",
        "        return r\n",
        "\n",
        "    for i in range(len(COMB_FEATURE)):\n",
        "        for j in range(i+1,len(COMB_FEATURE)):\n",
        "            feature = COMB_FEATURE[i]+'_'+COMB_FEATURE[j]\n",
        "            input[feature]=input[COMB_FEATURE[i]]+input[COMB_FEATURE[j]]\n",
        "            input[feature]=input[feature].apply(encode)\n",
        "\n",
        "    for i in cat_features:\n",
        "        input[i]=input[i].apply(encode)\n",
        "\n",
        "    dpoint = xgb.DMatrix(input)\n",
        "\n",
        "    loaded_model = pickle.load(open('/content/drive/My Drive/finalized_model_lexical_coding.pkl', 'rb'))\n",
        "\n",
        "    result = loaded_model.predict(dpoint)\n",
        "    result = np.exp(result)-shift\n",
        "\n",
        "    error = mean_absolute_error(result,actual_value)\n",
        "\n",
        "    return result,error"
      ],
      "execution_count": null,
      "outputs": []
    },
    {
      "cell_type": "code",
      "metadata": {
        "id": "7Y3f2V0WQYY5",
        "outputId": "3b96974a-c231-491c-8633-120c6497bb7b",
        "colab": {
          "base_uri": "https://localhost:8080/",
          "height": 68
        }
      },
      "source": [
        "datapoint = pd.read_csv('/content/drive/My Drive/allstate-claims-severity/train.csv',nrows=2)\n",
        "\n",
        "actual_value = datapoint['loss']\n",
        "\n",
        "datapoint = datapoint.drop(['id','loss'],axis=1)\n",
        "\n",
        "predictions , mae  = function2(datapoint,actual_value)\n",
        "\n",
        "print('Predictions of given data points are : \\n {0}'.format(predictions))\n",
        "\n",
        "print('Mean absolute error : {0}'.format(mae))"
      ],
      "execution_count": null,
      "outputs": [
        {
          "output_type": "stream",
          "text": [
            "Predictions of given data points are : \n",
            " [2389.5442 3338.2742]\n",
            "Mean absolute error : 1115.5191796875001\n"
          ],
          "name": "stdout"
        }
      ]
    }
  ]
}