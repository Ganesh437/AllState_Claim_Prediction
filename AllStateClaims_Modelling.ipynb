{
  "nbformat": 4,
  "nbformat_minor": 0,
  "metadata": {
    "colab": {
      "name": "Modelling.ipynb",
      "provenance": [],
      "collapsed_sections": []
    },
    "kernelspec": {
      "display_name": "Python 3",
      "language": "python",
      "name": "python3"
    },
    "language_info": {
      "codemirror_mode": {
        "name": "ipython",
        "version": 3
      },
      "file_extension": ".py",
      "mimetype": "text/x-python",
      "name": "python",
      "nbconvert_exporter": "python",
      "pygments_lexer": "ipython3",
      "version": "3.7.3"
    }
  },
  "cells": [
    {
      "cell_type": "code",
      "metadata": {
        "id": "288w_BkojvAW"
      },
      "source": [
        "import warnings\n",
        "warnings.filterwarnings(\"ignore\") # ignoring warnings\n",
        "\n",
        "# importing the required libraries \n",
        "import random \n",
        "import pandas as pd \n",
        "import numpy as np\n",
        "# plotting libraries\n",
        "import seaborn as sns\n",
        "import pickle\n",
        "import matplotlib.pyplot as plt\n",
        "import statsmodels.api as sm\n",
        "import xgboost as xgb\n",
        "from tqdm import tqdm\n",
        "\n",
        "from collections import Counter \n",
        "from copy import deepcopy\n",
        "from sklearn.preprocessing import LabelEncoder \n",
        "from sklearn.metrics import make_scorer\n",
        "from sklearn.model_selection import train_test_split\n",
        "from sklearn.linear_model import LogisticRegression\n",
        "from sklearn.metrics import roc_auc_score\n",
        "from sklearn.decomposition import PCA\n",
        "from sklearn.linear_model import LinearRegression,Lasso,Ridge,ElasticNet\n",
        "from sklearn.ensemble import RandomForestRegressor,GradientBoostingRegressor,AdaBoostRegressor\n",
        "from xgboost import XGBRegressor\n",
        "from sklearn.neighbors import KNeighborsRegressor\n",
        "from sklearn.tree import DecisionTreeRegressor\n",
        "from sklearn.metrics import mean_absolute_error\n",
        "from sklearn.model_selection import GridSearchCV\n",
        "from sklearn.model_selection import  RandomizedSearchCV"
      ],
      "execution_count": null,
      "outputs": []
    },
    {
      "cell_type": "code",
      "metadata": {
        "id": "tV8rm6RokP4l"
      },
      "source": [
        "# loading the train and test data into pandas dataframe\n",
        "\n",
        "tr_df = pd.read_csv('/content/train.csv')\n",
        "te_df = pd.read_csv('/content/test.csv')"
      ],
      "execution_count": null,
      "outputs": []
    },
    {
      "cell_type": "code",
      "metadata": {
        "id": "TrEqN3nnk1cY"
      },
      "source": [
        "# adding extra features for test data \n",
        "te_df['is_cat3_sameas_cat90']=np.where(te_df['cat3']==te_df['cat90'],1,0)\n",
        "\n",
        "te_df['is_cat7_sameas_cat89']=np.where(te_df['cat7']==te_df['cat89'],1,0)\n",
        "\n",
        "te_df['is_cat2_sameas_cat9']=np.where(te_df['cat2']==te_df['cat9'],1,0)\n",
        "\n",
        "te_df['is_cat6_sameas_cat50']=np.where(te_df['cat6']==te_df['cat50'],1,0)"
      ],
      "execution_count": null,
      "outputs": []
    },
    {
      "cell_type": "code",
      "metadata": {
        "id": "SXxR08KGkxQY"
      },
      "source": [
        "# As cat3 and cat90 are highly correlated adding new features which says both are same or different .\n",
        "# 1 if same 0 if different ..... same for remaining features .. \n",
        "\n",
        "tr_df['is_cat3_sameas_cat90']=np.where(tr_df['cat3']==tr_df['cat90'],1,0)\n",
        "\n",
        "tr_df['is_cat7_sameas_cat89']=np.where(tr_df['cat7']==tr_df['cat89'],1,0)\n",
        "\n",
        "tr_df['is_cat2_sameas_cat9']=np.where(tr_df['cat2']==tr_df['cat9'],1,0)\n",
        "\n",
        "tr_df['is_cat6_sameas_cat50']=np.where(tr_df['cat6']==tr_df['cat50'],1,0)"
      ],
      "execution_count": null,
      "outputs": []
    },
    {
      "cell_type": "code",
      "metadata": {
        "id": "JVTfhpQykTJB"
      },
      "source": [
        "# Getting categorical column names and continous column names \n",
        "\n",
        "cat_features = [i for i in tr_df.columns if i[:3]=='cat']\n",
        "\n",
        "cont_features = [i for i in tr_df.columns if i[:4]=='cont']"
      ],
      "execution_count": null,
      "outputs": []
    },
    {
      "cell_type": "code",
      "metadata": {
        "id": "JHX-8R8M8Jjk"
      },
      "source": [
        "te_df['loss'] = np.nan\n",
        "joined = pd.concat([tr_df, te_df])"
      ],
      "execution_count": null,
      "outputs": []
    },
    {
      "cell_type": "code",
      "metadata": {
        "id": "u1w9qzL_8Jjq"
      },
      "source": [
        "def filter_cat(x):\n",
        "    if x in remove:\n",
        "        return np.nan\n",
        "    return x"
      ],
      "execution_count": null,
      "outputs": []
    },
    {
      "cell_type": "code",
      "metadata": {
        "id": "W4fk12o08Jjt"
      },
      "source": [
        "for i in cat_features:\n",
        "    if tr_df[i].nunique() != te_df[i].nunique():\n",
        "        set_train = set(tr_df[i].unique())\n",
        "        set_test = set(te_df[i].unique())\n",
        "        remove_train = set_train - set_test\n",
        "        remove_test = set_test - set_train\n",
        "        remove = remove_train.union(remove_test)\n",
        "        \n",
        "        joined[i] = joined[i].apply(lambda x: filter_cat(x), axis=1)\n",
        "            \n",
        "    joined[i] = pd.factorize(joined[i].values, sort=True)[0]"
      ],
      "execution_count": null,
      "outputs": []
    },
    {
      "cell_type": "markdown",
      "metadata": {
        "id": "72SAclxFk6wy"
      },
      "source": [
        "## Training Baseline Models"
      ]
    },
    {
      "cell_type": "code",
      "metadata": {
        "id": "TUlWakwUkk4W"
      },
      "source": [
        "shift = 200\n",
        "\n",
        "y = np.log(tr_df['loss']+shift)\n",
        "\n",
        "X = tr_df.drop(['loss', 'id'], axis=1)\n",
        "te_df = te_df.drop(['loss', 'id'],axis= 1)\n",
        "\n",
        "X_train , X_cv , y_train , y_cv = train_test_split(X,y,test_size=0.25, random_state = 45)"
      ],
      "execution_count": null,
      "outputs": []
    },
    {
      "cell_type": "code",
      "metadata": {
        "id": "OMOKhLQok57g"
      },
      "source": [
        "def run_models(X_train,y_train,X_cv,y_cv):\n",
        "    model_eln = ElasticNet()\n",
        "    model_las = Lasso()\n",
        "    model_rid = Ridge()\n",
        "    model_lr  = LinearRegression()\n",
        "    model_dt  = DecisionTreeRegressor()\n",
        "    model_xgb = XGBRegressor()\n",
        "    model_adb = AdaBoostRegressor()\n",
        "    model_rf  = RandomForestRegressor()\n",
        "    model_knn = KNeighborsRegressor()\n",
        "\n",
        "    models = [model_xgb,model_adb,model_rf,model_knn,model_eln,model_las,model_rid,model_lr,model_dt]\n",
        "    model_names = ['xgb','AdaBoost','RandomForest','KNN','ElasticNet','Lasso','Ridge','Linear','DecisionTree']\n",
        "    model_dict = {}\n",
        "    \n",
        "    for i in range(len(models)):\n",
        "        models[i].fit(X_train,y_train)\n",
        "        pred =  models[i].predict(X_cv)\n",
        "        a = mean_absolute_error(np.exp(y_cv)-shift, np.exp(pred)-shift)\n",
        "        model_dict.update({model_names[i]:a})\n",
        "        \n",
        "    return model_dict"
      ],
      "execution_count": null,
      "outputs": []
    },
    {
      "cell_type": "code",
      "metadata": {
        "id": "rmtpWWYH8Jj4"
      },
      "source": [
        "model_performance = run_models(X_train,y_train,X_cv,y_cv)"
      ],
      "execution_count": null,
      "outputs": []
    },
    {
      "cell_type": "markdown",
      "metadata": {
        "id": "6CNq8aNUpRr7"
      },
      "source": [
        "## Training Baseline MLP"
      ]
    },
    {
      "cell_type": "code",
      "metadata": {
        "id": "g3ATrjGG0n9d"
      },
      "source": [
        "import tensorflow as tf \n",
        "from tensorflow.keras.layers import Dense\n",
        "from tensorflow.keras.layers import BatchNormalization\n",
        "from tensorflow.keras.layers import PReLU,Dropout\n",
        "from tensorflow.keras import Sequential"
      ],
      "execution_count": null,
      "outputs": []
    },
    {
      "cell_type": "code",
      "metadata": {
        "id": "oJT_vGLqpQvn"
      },
      "source": [
        "#https://www.kaggle.com/mtinti/keras-starter-with-bagging-1111-84364/code\n",
        "\n",
        "model = Sequential()\n",
        "    \n",
        "model.add(Dense(400, input_dim = X_train.shape[1], kernel_initializer = 'he_normal'))\n",
        "model.add(PReLU())\n",
        "model.add(BatchNormalization())\n",
        "model.add(Dropout(0.4))\n",
        "        \n",
        "model.add(Dense(200, kernel_initializer='he_normal'))\n",
        "model.add(PReLU())\n",
        "model.add(BatchNormalization())    \n",
        "model.add(Dropout(0.2))\n",
        "    \n",
        "model.add(Dense(50, kernel_initializer = 'he_normal'))\n",
        "model.add(PReLU())\n",
        "model.add(BatchNormalization())    \n",
        "model.add(Dropout(0.2))\n",
        "    \n",
        "model.add(Dense(1, kernel_initializer = 'he_normal'))\n",
        "model.compile(loss = 'mae', optimizer = 'adam')"
      ],
      "execution_count": null,
      "outputs": []
    },
    {
      "cell_type": "code",
      "metadata": {
        "id": "JiDYyNDp0RiT",
        "outputId": "fab3eb8e-6905-4280-eb35-073a23450b82",
        "colab": {
          "base_uri": "https://localhost:8080/",
          "height": 357
        }
      },
      "source": [
        "model.fit(X_train,y_train,validation_data=(X_cv,y_cv),epochs=10)\n",
        "predict = model.predict(X_cv)\n",
        "error = mean_absolute_error(np.exp(y_cv)-shift,np.exp(predict)-shift)\n",
        "model_performance['MLP Baseline']=error"
      ],
      "execution_count": null,
      "outputs": [
        {
          "output_type": "stream",
          "text": [
            "Epoch 1/10\n",
            "4414/4414 [==============================] - 21s 5ms/step - loss: 1.1059 - val_loss: 0.4405\n",
            "Epoch 2/10\n",
            "4414/4414 [==============================] - 20s 5ms/step - loss: 0.5784 - val_loss: 0.4238\n",
            "Epoch 3/10\n",
            "4414/4414 [==============================] - 20s 5ms/step - loss: 0.5310 - val_loss: 0.4055\n",
            "Epoch 4/10\n",
            "4414/4414 [==============================] - 20s 5ms/step - loss: 0.5082 - val_loss: 0.4022\n",
            "Epoch 5/10\n",
            "4414/4414 [==============================] - 20s 5ms/step - loss: 0.4877 - val_loss: 0.4088\n",
            "Epoch 6/10\n",
            "4414/4414 [==============================] - 20s 5ms/step - loss: 0.4725 - val_loss: 0.3977\n",
            "Epoch 7/10\n",
            "4414/4414 [==============================] - 21s 5ms/step - loss: 0.4577 - val_loss: 0.4171\n",
            "Epoch 8/10\n",
            "4414/4414 [==============================] - 21s 5ms/step - loss: 0.4467 - val_loss: 0.3958\n",
            "Epoch 9/10\n",
            "4414/4414 [==============================] - 21s 5ms/step - loss: 0.4388 - val_loss: 0.3990\n",
            "Epoch 10/10\n",
            "4414/4414 [==============================] - 20s 5ms/step - loss: 0.4318 - val_loss: 0.3939\n"
          ],
          "name": "stdout"
        }
      ]
    },
    {
      "cell_type": "code",
      "metadata": {
        "id": "BEeO0F5wqnzt",
        "outputId": "7a431f08-ef92-43bb-d254-7915d907b88e",
        "colab": {
          "base_uri": "https://localhost:8080/",
          "height": 399
        }
      },
      "source": [
        "fig, ax = plt.subplots(figsize=(10, 5))\n",
        "plt.plot(list(model_performance.values()))\n",
        "ax.set_xticks(range(len(model_performance)))\n",
        "ax.set_xticklabels(list(model_performance.keys()),rotation=45)\n",
        "\n",
        "for i,j in enumerate(list((model_performance).values())):\n",
        "    ax.annotate(str(round(j,4)),xy=(i,j+1),rotation=45)\n",
        "    \n",
        "plt.show()"
      ],
      "execution_count": null,
      "outputs": [
        {
          "output_type": "display_data",
          "data": {
            "image/png": "[encoded data removed]",
            "text/plain": [
              "<Figure size 720x360 with 1 Axes>"
            ]
          },
          "metadata": {
            "tags": [],
            "needs_background": "light"
          }
        }
      ]
    },
    {
      "cell_type": "markdown",
      "metadata": {
        "id": "eYuxAmPe8JkK"
      },
      "source": [
        "#### Observation : \n",
        "\n",
        "From the above graph we can observe that linear model are not performing well . \n",
        "\n",
        "Tree based ensembles like boosting and bagging are performing good .\n",
        "\n",
        "So we will hyperparameter tune the following models xbgboost , RandomForest , AdaBoost . \n",
        "\n",
        "Also , XGBoost performed well so we will hyperparameter tune it extensively . "
      ]
    },
    {
      "cell_type": "markdown",
      "metadata": {
        "id": "vlGtbOeIjwRw"
      },
      "source": [
        "<h1 align='center'><font color='green'>Tuning tree based models </font><h1/>"
      ]
    },
    {
      "cell_type": "code",
      "metadata": {
        "id": "DGWuneKY8JkP"
      },
      "source": [
        "shift = 200\n",
        "\n",
        "y_train = np.log(tr_df['loss']+shift)\n",
        "\n",
        "X_tr = tr_df.drop(['loss','id'] , axis=1)\n",
        "\n",
        "te_df = te_df.drop(['loss', 'id'],axis= 1)"
      ],
      "execution_count": null,
      "outputs": []
    },
    {
      "cell_type": "markdown",
      "metadata": {
        "id": "xfd9EMObkAHY"
      },
      "source": [
        "## Defining MAE "
      ]
    },
    {
      "cell_type": "code",
      "metadata": {
        "id": "qS0Lg22A8JkM"
      },
      "source": [
        "# https://stackoverflow.com/questions/32401493/how-to-create-customize-your-own-scorer-function-in-scikit-learn/36560637\n",
        "\n",
        "def eval_mae(y_pred,y_true):\n",
        "    a = mean_absolute_error(np.exp(y_pred)-shift,np.exp(y_true)-shift)\n",
        "    return a\n",
        "\n",
        "my_scorer = make_scorer(eval_mae, greater_is_better=False)"
      ],
      "execution_count": null,
      "outputs": []
    },
    {
      "cell_type": "markdown",
      "metadata": {
        "id": "oZR1muBYTBXs"
      },
      "source": [
        "##<font color='blue'>Hyperparameter tuning RandomForest</font> "
      ]
    },
    {
      "cell_type": "code",
      "metadata": {
        "id": "gf1YUlyQ8JkX",
        "outputId": "bbc95ff7-db68-4a9d-aff3-5a6f466ea674"
      },
      "source": [
        "model_rf = RandomForestRegressor(n_jobs=-1)\n",
        "\n",
        "parameters = {'max_depth': [10,12] ,'n_estimators': [50,100,200]}\n",
        "\n",
        "reg = GridSearchCV(model_rf,parameters, cv=3,scoring=my_scorer,return_train_score=True,n_jobs=-1,verbose=1)\n",
        "\n",
        "reg.fit(X_tr, y_train)"
      ],
      "execution_count": null,
      "outputs": [
        {
          "output_type": "stream",
          "text": [
            "Fitting 3 folds for each of 6 candidates, totalling 18 fits\n"
          ],
          "name": "stdout"
        },
        {
          "output_type": "stream",
          "text": [
            "[Parallel(n_jobs=-1)]: Using backend LokyBackend with 4 concurrent workers.\n",
            "[Parallel(n_jobs=-1)]: Done  18 out of  18 | elapsed: 45.1min finished\n"
          ],
          "name": "stderr"
        },
        {
          "output_type": "execute_result",
          "data": {
            "text/plain": [
              "GridSearchCV(cv=3, error_score=nan,\n",
              "             estimator=RandomForestRegressor(bootstrap=True, ccp_alpha=0.0,\n",
              "                                             criterion='mse', max_depth=None,\n",
              "                                             max_features='auto',\n",
              "                                             max_leaf_nodes=None,\n",
              "                                             max_samples=None,\n",
              "                                             min_impurity_decrease=0.0,\n",
              "                                             min_impurity_split=None,\n",
              "                                             min_samples_leaf=1,\n",
              "                                             min_samples_split=2,\n",
              "                                             min_weight_fraction_leaf=0.0,\n",
              "                                             n_estimators=100, n_jobs=-1,\n",
              "                                             oob_score=False, random_state=None,\n",
              "                                             verbose=0, warm_start=False),\n",
              "             iid='deprecated', n_jobs=-1,\n",
              "             param_grid={'max_depth': [10, 12], 'n_estimators': [50, 100, 200]},\n",
              "             pre_dispatch='2*n_jobs', refit=True, return_train_score=True,\n",
              "             scoring=make_scorer(eval_mae, greater_is_better=False), verbose=1)"
            ]
          },
          "metadata": {
            "tags": []
          },
          "execution_count": 26
        }
      ]
    },
    {
      "cell_type": "code",
      "metadata": {
        "id": "Fs5p41aV8Jka",
        "outputId": "c1be9cb3-bee8-4b58-efb3-e04577c0ca08"
      },
      "source": [
        "reg.best_params_"
      ],
      "execution_count": null,
      "outputs": [
        {
          "output_type": "execute_result",
          "data": {
            "text/plain": [
              "{'max_depth': 12, 'n_estimators': 200}"
            ]
          },
          "metadata": {
            "tags": []
          },
          "execution_count": 27
        }
      ]
    },
    {
      "cell_type": "code",
      "metadata": {
        "id": "24R8PM-a8Jkc",
        "outputId": "8c102599-6884-45ca-cca4-2ce16244aff5"
      },
      "source": [
        "final_rf=RandomForestRegressor(max_depth=12,n_estimators=200)\n",
        "final_rf.fit(X_tr, y_train)"
      ],
      "execution_count": null,
      "outputs": [
        {
          "output_type": "execute_result",
          "data": {
            "text/plain": [
              "RandomForestRegressor(bootstrap=True, ccp_alpha=0.0, criterion='mse',\n",
              "                      max_depth=12, max_features='auto', max_leaf_nodes=None,\n",
              "                      max_samples=None, min_impurity_decrease=0.0,\n",
              "                      min_impurity_split=None, min_samples_leaf=1,\n",
              "                      min_samples_split=2, min_weight_fraction_leaf=0.0,\n",
              "                      n_estimators=200, n_jobs=None, oob_score=False,\n",
              "                      random_state=None, verbose=0, warm_start=False)"
            ]
          },
          "metadata": {
            "tags": []
          },
          "execution_count": 28
        }
      ]
    },
    {
      "cell_type": "code",
      "metadata": {
        "id": "j1Go1fSc8Jkf"
      },
      "source": [
        "te_prd_rf =final_rf.predict(te_df)\n",
        "prediction = np.exp(te_prd_rf) - shift\n",
        "\n",
        "submit = pd.read_csv('sample_submission.csv')\n",
        "submit['loss'] = prediction\n",
        "submit.to_csv('submission_rf.csv', index=False)"
      ],
      "execution_count": null,
      "outputs": []
    },
    {
      "cell_type": "markdown",
      "metadata": {
        "id": "rdWV5BDe8Jki"
      },
      "source": [
        "#### Observations : \n",
        "\n",
        "Tuning the hyperparameters of random forest yielded a score of 1220.43789 on test data  and 1209.20903 on train data . \n",
        "\n",
        "Even after hyperparameter tuning the Random Forest it is not performing that good . "
      ]
    },
    {
      "cell_type": "markdown",
      "metadata": {
        "id": "Q_sJno848Jkj"
      },
      "source": [
        "##<font color='blue'>Hyperparameter tuning Adaboost</font> "
      ]
    },
    {
      "cell_type": "code",
      "metadata": {
        "id": "eeqfRT9q8Jkj",
        "outputId": "da7994a5-efeb-4120-c866-97a01aca31dd"
      },
      "source": [
        "model_adaboost = AdaBoostRegressor()\n",
        "\n",
        "parameters = {'learning_rate':[0.1,0.5,1.0] ,'n_estimators': [50,100,200]}\n",
        "\n",
        "reg = GridSearchCV(model_adaboost,parameters, cv=3,scoring=my_scorer,return_train_score=True,n_jobs=-1,verbose=1)\n",
        "\n",
        "reg.fit(X_tr, y_train)"
      ],
      "execution_count": null,
      "outputs": [
        {
          "output_type": "stream",
          "text": [
            "Fitting 3 folds for each of 9 candidates, totalling 27 fits\n"
          ],
          "name": "stdout"
        },
        {
          "output_type": "stream",
          "text": [
            "[Parallel(n_jobs=-1)]: Using backend LokyBackend with 4 concurrent workers.\n",
            "[Parallel(n_jobs=-1)]: Done  27 out of  27 | elapsed: 53.2min finished\n"
          ],
          "name": "stderr"
        },
        {
          "output_type": "execute_result",
          "data": {
            "text/plain": [
              "GridSearchCV(cv=3, error_score=nan,\n",
              "             estimator=AdaBoostRegressor(base_estimator=None, learning_rate=1.0,\n",
              "                                         loss='linear', n_estimators=50,\n",
              "                                         random_state=None),\n",
              "             iid='deprecated', n_jobs=-1,\n",
              "             param_grid={'learning_rate': [0.1, 0.5, 1.0],\n",
              "                         'n_estimators': [50, 100, 200]},\n",
              "             pre_dispatch='2*n_jobs', refit=True, return_train_score=True,\n",
              "             scoring=make_scorer(eval_mae, greater_is_better=False), verbose=1)"
            ]
          },
          "metadata": {
            "tags": []
          },
          "execution_count": 33
        }
      ]
    },
    {
      "cell_type": "code",
      "metadata": {
        "id": "6RQ0L32q8Jkm",
        "outputId": "371b7faf-f98d-4bf6-a920-daae5977953d"
      },
      "source": [
        "reg.best_params_"
      ],
      "execution_count": null,
      "outputs": [
        {
          "output_type": "execute_result",
          "data": {
            "text/plain": [
              "{'learning_rate': 0.1, 'n_estimators': 50}"
            ]
          },
          "metadata": {
            "tags": []
          },
          "execution_count": 34
        }
      ]
    },
    {
      "cell_type": "code",
      "metadata": {
        "id": "6QcNvIX68Jkp",
        "outputId": "2970bd2e-3332-49ae-d42c-2be9b1757699"
      },
      "source": [
        "final_ab=AdaBoostRegressor(learning_rate= 0.1, n_estimators=50)\n",
        "final_ab.fit(X_tr, y_train)"
      ],
      "execution_count": null,
      "outputs": [
        {
          "output_type": "execute_result",
          "data": {
            "text/plain": [
              "AdaBoostRegressor(base_estimator=None, learning_rate=0.1, loss='linear',\n",
              "                  n_estimators=50, random_state=None)"
            ]
          },
          "metadata": {
            "tags": []
          },
          "execution_count": 35
        }
      ]
    },
    {
      "cell_type": "code",
      "metadata": {
        "id": "hFvUIscB8Jkr"
      },
      "source": [
        "te_prd_ab =final_ab.predict(te_df)\n",
        "prediction = np.exp(te_prd_ab) - shift\n",
        "\n",
        "submit = pd.read_csv('sample_submission.csv')\n",
        "submit['loss'] = prediction\n",
        "submit.to_csv('submission_ab.csv', index=False)"
      ],
      "execution_count": null,
      "outputs": []
    },
    {
      "cell_type": "markdown",
      "metadata": {
        "id": "UpOaVl4H8Jku"
      },
      "source": [
        "#### observations : \n",
        "\n",
        "Tuning the hyperparameters of Adaboost yielded a score of 1436.54964 on test data  and 1421.84335  on train data\n",
        "\n",
        "Even after hyperparameter tuning the AdaBoost Regressor it is not performing that good . "
      ]
    },
    {
      "cell_type": "markdown",
      "metadata": {
        "id": "ByETLRM18Jku"
      },
      "source": [
        "##<font color='blue'>Hyperparameter tuning XGBoost</font> \n"
      ]
    },
    {
      "cell_type": "markdown",
      "metadata": {
        "id": "4-6f9CE31K_S"
      },
      "source": [
        " In an ideal world, with infinite resources and where time is not an issue, you could run a giant grid search with all the parameters together and find the optimal solution.\n",
        "In fact, you might even be able to do that with really small datasets, but as the data grows bigger, training time grows too, and each step in the tuning process becomes more expensive. For this reason it is important to understand the role of the parameters and focus on the steps that we expect to impact our results the most. Here we will tune 6 of the hyperparameters that are usually having a big impact on performance. Whilst, again, it would be necessary to test all combinations to ensure we find THE optimal solution, our goal here is to find a good enough one by improving our out-of-the-box model with as few steps as possible.\n",
        "\n",
        "\n",
        "Its optimal value highly depends on the other parameters, and thus it should be re-tuned each time you update a parameter. You could do this by tuning it together with all parameters in a grid-search, but it requires a lot of computational effort."
      ]
    },
    {
      "cell_type": "markdown",
      "metadata": {
        "id": "r93wSA9N8Jkv"
      },
      "source": [
        "#### Tuning xgboost parameters "
      ]
    },
    {
      "cell_type": "code",
      "metadata": {
        "id": "ZaSpkOEx8Jkv",
        "outputId": "b3acbe04-884d-42ea-abf9-db5aa0d9a0ff"
      },
      "source": [
        "parameters = {\n",
        "    'colsample_bytree': [0.4,0.5,0.6],\n",
        "    'subsample': [0.8,0.9,0.7],\n",
        "    'gamma': [0.01 , 0.1 , 1 ],\n",
        "    'learning_rate': [0.1,0.01,0.15],\n",
        "    'max_depth': [10,11,12], \n",
        "    'min_child_weight': [1,2,3]\n",
        "}\n",
        "\n",
        "model_xgb = XGBRegressor(n_estimators=140,objective= 'reg:linear',scoring=my_scorer,n_jobs=-1)\n",
        "\n",
        "reg = GridSearchCV(model_xgb,parameters, cv=3,scoring=my_scorer,return_train_score=True,n_jobs=-1,verbose=1)\n",
        "\n",
        "reg.fit(X_tr,y_train)"
      ],
      "execution_count": null,
      "outputs": [
        {
          "output_type": "stream",
          "text": [
            "Fitting 3 folds for each of 729 candidates, totalling 2187 fits\n"
          ],
          "name": "stdout"
        },
        {
          "output_type": "stream",
          "text": [
            "[Parallel(n_jobs=-1)]: Using backend LokyBackend with 4 concurrent workers.\n",
            "[Parallel(n_jobs=-1)]: Done  42 tasks      | elapsed: 41.9min\n",
            "[Parallel(n_jobs=-1)]: Done 192 tasks      | elapsed: 178.8min\n",
            "[Parallel(n_jobs=-1)]: Done 442 tasks      | elapsed: 412.4min\n",
            "[Parallel(n_jobs=-1)]: Done 792 tasks      | elapsed: 1571.9min\n",
            "[Parallel(n_jobs=-1)]: Done 1242 tasks      | elapsed: 2067.0min\n",
            "[Parallel(n_jobs=-1)]: Done 1792 tasks      | elapsed: 2734.6min\n",
            "[Parallel(n_jobs=-1)]: Done 2187 out of 2187 | elapsed: 3240.8min finished\n"
          ],
          "name": "stderr"
        },
        {
          "output_type": "stream",
          "text": [
            "[21:46:26] WARNING: C:/Users/Administrator/workspace/xgboost-win64_release_1.2.0/src/objective/regression_obj.cu:174: reg:linear is now deprecated in favor of reg:squarederror.\n",
            "[21:46:26] WARNING: C:\\Users\\Administrator\\workspace\\xgboost-win64_release_1.2.0\\src\\learner.cc:516: \n",
            "Parameters: { scoring } might not be used.\n",
            "\n",
            "  This may not be accurate due to some parameters are only used in language bindings but\n",
            "  passed down to XGBoost core.  Or some parameters are not used but slip through this\n",
            "  verification. Please open an issue if you find above cases.\n",
            "\n",
            "\n",
            "[21:48:09] WARNING: C:/Users/Administrator/workspace/xgboost-win64_release_1.2.0/src/objective/regression_obj.cu:174: reg:linear is now deprecated in favor of reg:squarederror.\n"
          ],
          "name": "stdout"
        },
        {
          "output_type": "execute_result",
          "data": {
            "text/plain": [
              "GridSearchCV(cv=3, error_score=nan,\n",
              "             estimator=XGBRegressor(base_score=None, booster=None,\n",
              "                                    colsample_bylevel=None,\n",
              "                                    colsample_bynode=None,\n",
              "                                    colsample_bytree=None, gamma=None,\n",
              "                                    gpu_id=None, importance_type='gain',\n",
              "                                    interaction_constraints=None,\n",
              "                                    learning_rate=None, max_delta_step=None,\n",
              "                                    max_depth=None, min_child_weight=None,\n",
              "                                    missing=nan, monotone_constraints=None,\n",
              "                                    n_estima...\n",
              "                                    validate_parameters=None, verbosity=None),\n",
              "             iid='deprecated', n_jobs=-1,\n",
              "             param_grid={'colsample_bytree': [0.4, 0.5, 0.6],\n",
              "                         'gamma': [0.01, 0.1, 1],\n",
              "                         'learning_rate': [0.1, 0.01, 0.15],\n",
              "                         'max_depth': [10, 11, 12],\n",
              "                         'min_child_weight': [1, 2, 3],\n",
              "                         'subsample': [0.8, 0.9, 0.7]},\n",
              "             pre_dispatch='2*n_jobs', refit=True, return_train_score=True,\n",
              "             scoring=make_scorer(eval_mae, greater_is_better=False), verbose=1)"
            ]
          },
          "metadata": {
            "tags": []
          },
          "execution_count": 20
        }
      ]
    },
    {
      "cell_type": "code",
      "metadata": {
        "id": "Bq_eGono8Jky",
        "outputId": "9d200c50-ad09-487d-ca01-d78bc5729c32"
      },
      "source": [
        "reg.best_params_"
      ],
      "execution_count": null,
      "outputs": [
        {
          "output_type": "execute_result",
          "data": {
            "text/plain": [
              "{'colsample_bytree': 0.5,\n",
              " 'gamma': 1,\n",
              " 'learning_rate': 0.01,\n",
              " 'max_depth': 12,\n",
              " 'min_child_weight': 1,\n",
              " 'subsample': 0.8}"
            ]
          },
          "metadata": {
            "tags": []
          },
          "execution_count": 27
        }
      ]
    },
    {
      "cell_type": "markdown",
      "metadata": {
        "id": "UOne3swj8Jk1"
      },
      "source": [
        "####  Tuning n_estimator"
      ]
    },
    {
      "cell_type": "code",
      "metadata": {
        "id": "g8Ddmbrl8Jk2"
      },
      "source": [
        "dtrain = xgb.DMatrix(X_tr, label=y_train)\n",
        "dtest =  xgb.DMatrix(te_df)"
      ],
      "execution_count": null,
      "outputs": []
    },
    {
      "cell_type": "code",
      "metadata": {
        "id": "bCS9vGd38Jk7"
      },
      "source": [
        "def log_xgboost_eval_mae(pred,dtrain):\n",
        "    labels = dtrain.get_label()\n",
        "    a = mean_absolute_error(np.exp(pred)-shift,np.exp(labels)-shift)\n",
        "    return 'mae',a"
      ],
      "execution_count": null,
      "outputs": []
    },
    {
      "cell_type": "code",
      "metadata": {
        "id": "KgOcp3b_8Jk4"
      },
      "source": [
        "params = {\n",
        "        'min_child_weight': 1,\n",
        "        'eta': 0.01,\n",
        "        'colsample_bytree': 0.5,\n",
        "        'max_depth': 12,\n",
        "        'subsample': 0.8,\n",
        "        'alpha': 1,\n",
        "        'gamma': 1,\n",
        "        'seed': 2102\n",
        "    }"
      ],
      "execution_count": null,
      "outputs": []
    },
    {
      "cell_type": "code",
      "metadata": {
        "id": "apLZ-k5A8Jk9",
        "outputId": "61c458f7-2f15-4cad-ffee-a66b2705efe5"
      },
      "source": [
        "# https://blog.cambridgespark.com/hyperparameter-tuning-in-xgboost-4ff9100a3b2f\n",
        "\n",
        "res = xgb.cv(params, dtrain, num_boost_round=2500, nfold=5, stratified=False,\n",
        "         early_stopping_rounds=50, verbose_eval=500, feval=log_xgboost_eval_mae, maximize=False)"
      ],
      "execution_count": null,
      "outputs": [
        {
          "output_type": "stream",
          "text": [
            "[0]\ttrain-rmse:7.26350+0.00125\ttest-rmse:7.26350+0.00505\ttrain-mae:3235.56392+4.96440\ttest-mae:3235.56401+19.85736\n",
            "[500]\ttrain-rmse:0.45669+0.00038\ttest-rmse:0.48472+0.00160\ttrain-mae:1109.76436+2.04000\ttest-mae:1176.40286+9.11541\n",
            "[1000]\ttrain-rmse:0.42695+0.00028\ttest-rmse:0.47599+0.00127\ttrain-mae:1016.24974+1.74064\ttest-mae:1139.76111+7.37136\n",
            "[1500]\ttrain-rmse:0.41452+0.00027\ttest-rmse:0.47488+0.00122\ttrain-mae:983.46896+1.75016\ttest-mae:1135.91648+7.33496\n",
            "[2000]\ttrain-rmse:0.40592+0.00031\ttest-rmse:0.47457+0.00119\ttrain-mae:961.50322+1.38057\ttest-mae:1134.76953+7.20621\n",
            "[2199]\ttrain-rmse:0.40316+0.00037\ttest-rmse:0.47455+0.00117\ttrain-mae:954.52123+1.36773\ttest-mae:1134.61301+7.11814\n"
          ],
          "name": "stdout"
        }
      ]
    },
    {
      "cell_type": "markdown",
      "metadata": {
        "id": "e7kYP1SW0OiW"
      },
      "source": [
        "#### Observation : \n",
        "\n",
        "From the above results we can say that as the number of trees is increasing beyond 2000 it is higly overfitting and test loss is not decreasing so we choose the n_estimators to be 2000 . \n",
        "\n",
        "And all other parameters are hyperparameter tuned using Grid Search . \n"
      ]
    },
    {
      "cell_type": "markdown",
      "metadata": {
        "id": "MWL-IT2w8Jk_"
      },
      "source": [
        "## <font color='blue'>Training final  XGBoost</font>\n"
      ]
    },
    {
      "cell_type": "code",
      "metadata": {
        "id": "RcY_RHYA8JlA"
      },
      "source": [
        "#https://www.kaggle.com/mtinti/xgb-1110-from-vladimir-iglovikov-and-tilii7\n",
        "\n",
        "params = {\n",
        "        'min_child_weight': 1,\n",
        "        'eta': 0.01,\n",
        "        'colsample_bytree': 0.5,\n",
        "        'max_depth': 12,\n",
        "        'subsample': 0.8,\n",
        "        'alpha': 1,\n",
        "        'gamma': 1,\n",
        "        'seed': 2016\n",
        "    }\n",
        "\n",
        "model = xgb.train(params, dtrain, int(2000), feval=log_xgboost_eval_mae)\n",
        "\n",
        "prediction = np.exp(model.predict(dtest)) - shift\n",
        "\n",
        "submit = pd.read_csv('sample_submission.csv')\n",
        "submit['loss'] = prediction\n",
        "submit.to_csv('submission_xgb.csv', index=False)"
      ],
      "execution_count": null,
      "outputs": []
    },
    {
      "cell_type": "markdown",
      "metadata": {
        "id": "2eCAWicS8JlC"
      },
      "source": [
        "#### Observation : \n",
        "\n",
        "Tuning the hyperparameters of XGBoost yielded a score of 1128.34842  on test data  and 1114.25911 on train data. \n",
        "\n",
        "To improve this scores further we are going to use custom objective function which is used for training . "
      ]
    },
    {
      "cell_type": "markdown",
      "metadata": {
        "id": "cMNBQDLd-Ejp"
      },
      "source": [
        "## <font color='blue'>Training xgboost with custom objective function</font>"
      ]
    },
    {
      "cell_type": "markdown",
      "metadata": {
        "id": "rJycO5fC8Hqh"
      },
      "source": [
        "### Need for custom objective :\n",
        "\n",
        "We know that the Mean absolute error is not differentiable so we come up with our own custom objective function which is approximation of MAE ."
      ]
    },
    {
      "cell_type": "code",
      "metadata": {
        "id": "H_tw16D7-ZpD"
      },
      "source": [
        "fair_constant = 2\n",
        "def fair_obj(preds, dtrain):\n",
        "    labels = dtrain.get_label()\n",
        "    x = (preds - labels)\n",
        "    den = abs(x) + fair_constant\n",
        "    grad = fair_constant * x / (den)\n",
        "    hess = fair_constant * fair_constant / (den * den)\n",
        "    return grad, hess"
      ],
      "execution_count": null,
      "outputs": []
    },
    {
      "cell_type": "code",
      "metadata": {
        "id": "PbCHGCpucvP1"
      },
      "source": [
        "params = {\n",
        "        'min_child_weight': 1,\n",
        "        'eta': 0.01,\n",
        "        'colsample_bytree': 0.5,\n",
        "        'max_depth': 12,\n",
        "        'subsample': 0.8,\n",
        "        'alpha': 1,\n",
        "        'gamma': 1,\n",
        "        'seed': 2016\n",
        "}\n",
        "\n",
        "model = xgb.train(params, dtrain, int(2000),obj =fair_obj,feval=log_xgboost_eval_mae)\n",
        "\n",
        "prediction = np.exp(model.predict(dtest)) - shift\n",
        "\n",
        "submit = pd.read_csv('sample_submission.csv')\n",
        "submit['loss'] = prediction\n",
        "submit.to_csv('submission_xgb_custobj.csv', index=False)"
      ],
      "execution_count": null,
      "outputs": []
    },
    {
      "cell_type": "markdown",
      "metadata": {
        "id": "Jzj8dAoKz_8G"
      },
      "source": [
        "#### Observation : \n",
        "\n",
        "when custom objective function is used for training the XGBoost model we observed a small decrease in the MAE values .\n",
        "\n",
        "Training the XGBoost with customobjective function  resulted in MAE of  1126.96143 on test data and  1113.22813 on train data .\n",
        "\n",
        "So we concluded that custom objective function is adding some value ."
      ]
    },
    {
      "cell_type": "markdown",
      "metadata": {
        "id": "U6-_ri5U9Ktc"
      },
      "source": [
        "## <font color='blue'>Lexical encoding the categorical features and adding combinations of features and using custom objective .</font>\n"
      ]
    },
    {
      "cell_type": "code",
      "metadata": {
        "id": "L2Pogf2b8mrf"
      },
      "source": [
        "for i in cat_features:\n",
        "    joined[i]=joined[i].apply(encode)"
      ],
      "execution_count": null,
      "outputs": []
    },
    {
      "cell_type": "code",
      "metadata": {
        "id": "_863C2lL9Kbt"
      },
      "source": [
        "#https://www.kaggle.com/misfyre/encoding-feature-comb-modkzs-1108-72665\n",
        "\n",
        "COMB_FEATURE = 'cat80,cat87,cat57,cat12,cat79,cat10,cat7,cat89,cat2,cat72,' \\\n",
        "               'cat81,cat11,cat1,cat13,cat9,cat3,cat16,cat90,cat23,cat36,' \\\n",
        "               'cat73,cat103,cat40,cat28,cat111,cat6,cat76,cat50,cat5,' \\\n",
        "               'cat4,cat14,cat38,cat24,cat82,cat25'.split(',')"
      ],
      "execution_count": null,
      "outputs": []
    },
    {
      "cell_type": "code",
      "metadata": {
        "id": "A1kOArbZ9YeN"
      },
      "source": [
        "for i in range(len(COMB_FEATURE)):\n",
        "    for j in range(i+1,len(COMB_FEATURE)):\n",
        "        feat = COMB_FEATURE[i] + '_' + COMB_FEATURE[j]\n",
        "        joined[feat] = joined[COMB_FEATURE[i]] + joined[COMB_FEATURE[j]]\n",
        "        joined[feat] = joined[feat].apply(encode)"
      ],
      "execution_count": null,
      "outputs": []
    },
    {
      "cell_type": "code",
      "metadata": {
        "id": "sJQuhso18Jjw"
      },
      "source": [
        "tr_df = joined[joined['loss'].notnull()]\n",
        "te_df = joined[joined['loss'].isnull()]"
      ],
      "execution_count": null,
      "outputs": []
    },
    {
      "cell_type": "code",
      "metadata": {
        "id": "4DRw4-MYbVuz"
      },
      "source": [
        "shift = 200\n",
        "\n",
        "y_train = np.log(tr_df['loss']+shift)\n",
        "\n",
        "X_tr = tr_df.drop(['loss','id'] , axis=1)\n",
        "\n",
        "te_df = te_df.drop(['loss', 'id'],axis= 1)"
      ],
      "execution_count": null,
      "outputs": []
    },
    {
      "cell_type": "code",
      "metadata": {
        "id": "DRm0ZIjobTyt"
      },
      "source": [
        "dtrain = xgb.DMatrix(X_tr, label=y_train)\n",
        "dtest =  xgb.DMatrix(te_df)"
      ],
      "execution_count": null,
      "outputs": []
    },
    {
      "cell_type": "code",
      "metadata": {
        "id": "NZsUVmdn-65_"
      },
      "source": [
        "params = {\n",
        "        'min_child_weight': 1,\n",
        "        'eta': 0.01,\n",
        "        'colsample_bytree': 0.5,\n",
        "        'max_depth': 12,\n",
        "        'subsample': 0.8,\n",
        "        'alpha': 1,\n",
        "        'gamma': 1,\n",
        "        'seed': 2016\n",
        "}\n",
        "\n",
        "model = xgb.train(params, dtrain, int(2000),obj =fair_obj,feval=log_xgboost_eval_mae)\n",
        "\n",
        "prediction = np.exp(model.predict(dtest)) - shift\n",
        "\n",
        "submit = pd.read_csv('sample_submission.csv')\n",
        "submit['loss'] = prediction\n",
        "submit.to_csv('submission_featcomb_lexical_coding.csv', index=False)"
      ],
      "execution_count": null,
      "outputs": []
    },
    {
      "cell_type": "markdown",
      "metadata": {
        "id": "dNcK3Goazzw4"
      },
      "source": [
        "#### Observation : \n",
        "\n",
        "In this apporach we are changing the way the categorical variables are being coded . We use modified lexical coding on categorical features and also add some combinations of categorical variables .\n",
        "\n",
        "By following the above steps we reduced our MAE further to  1124.39302 on test data  and 1109.58634 on train data .\n"
      ]
    },
    {
      "cell_type": "markdown",
      "metadata": {
        "id": "5nAMF4df30rT"
      },
      "source": [
        "<h1 align='center'><font color='brown'>Summarizing the results  </font><h1/>"
      ]
    },
    {
      "cell_type": "code",
      "metadata": {
        "id": "erD0Df8TQN-_",
        "outputId": "b7db508f-d23e-4185-8349-9dc41487793a",
        "colab": {
          "base_uri": "https://localhost:8080/",
          "height": 204
        }
      },
      "source": [
        "from prettytable import PrettyTable\n",
        "x = PrettyTable()\n",
        "x.field_names = [\"Model\", 'Private Score',\"Public Score\"]\n",
        "x.add_row([\"Random Forest\",1220.43789,1209.20903])\n",
        "x.add_row([\"Ada Boost\",1436.54964,1421.84335])\n",
        "x.add_row([\"Xgboost\",1128.34842,1114.25911])\n",
        "x.add_row([\"Xgboost(with custom \\n objective function)\",1126.96143,1113.22813])\n",
        "x.add_row(['Xgboost with feature combinations \\n and custom objective func',1124.39302,1109.58634])\n",
        "print(x)"
      ],
      "execution_count": null,
      "outputs": [
        {
          "output_type": "stream",
          "text": [
            "+------------------------------------+---------------+--------------+\n",
            "|               Model                | Private Score | Public Score |\n",
            "+------------------------------------+---------------+--------------+\n",
            "|           Random Forest            |   1220.43789  |  1209.20903  |\n",
            "|             Ada Boost              |   1436.54964  |  1421.84335  |\n",
            "|              Xgboost               |   1128.34842  |  1114.25911  |\n",
            "|        Xgboost(with custom         |   1126.96143  |  1113.22813  |\n",
            "|         objective function)        |               |              |\n",
            "| Xgboost with feature combinations  |   1124.39302  |  1109.58634  |\n",
            "|      and custom objective func     |               |              |\n",
            "+------------------------------------+---------------+--------------+\n"
          ],
          "name": "stdout"
        }
      ]
    },
    {
      "cell_type": "markdown",
      "metadata": {
        "id": "WEL27iWwwlZb"
      },
      "source": [
        "<h1 align='center'><font color='brown'>Kaggle submissions </font><h1/>\n",
        "\n",
        "<h2 align=\"center\"><img src=\"https://drive.google.com/uc?export=view&id=1zSdVXga4f5phS7_6lODEKxejrUJxLXIH\"></h2> "
      ]
    },
    {
      "cell_type": "markdown",
      "metadata": {
        "id": "cIeNFLla79FB"
      },
      "source": [
        "### Procedure :\n",
        "\n",
        "Firstly, i have used label encoding using the categorical feature values present in train data but its highly overfitting to the train data as we are giving distint value to the variable even if it occur very few times . \n",
        "\n",
        "From kaggle discussion forum i came to know that choose categorical values that are present in both train and test data to label encode and for remaining features assigning a value of '-1' helped to reduce the overfitting problem . \n",
        "\n",
        "Trained all the models to check which model is performing the best , linear models are note performing as good  as tree based models . \n",
        "\n",
        "Doing hyperparameter on the tree based models yielded a good results on XGBoost. \n",
        "\n",
        "Using custom objective function for training the model helped us to improve the performance by a small value . \n",
        "\n",
        "But , after going through kaggle discussion and blogs found that features interations of categorical features (combinations of features) and doing using modified lexical encoding on categorial features helped us reduce the MAE value by a good amount .  "
      ]
    }
  ]
}